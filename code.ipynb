{
  "nbformat": 4,
  "nbformat_minor": 0,
  "metadata": {
    "colab": {
      "name": "Session5-fine-tune.ipynb",
      "version": "0.3.2",
      "provenance": [],
      "collapsed_sections": []
    },
    "kernelspec": {
      "name": "python3",
      "display_name": "Python 3"
    },
    "accelerator": "GPU"
  },
  "cells": [
    {
      "cell_type": "markdown",
      "metadata": {
        "id": "-ywLi2pW0N9B",
        "colab_type": "text"
      },
      "source": [
        "# import"
      ]
    },
    {
      "cell_type": "code",
      "metadata": {
        "id": "KTaM9P5KFx6p",
        "colab_type": "code",
        "colab": {}
      },
      "source": [
        "import torch\n",
        "import torchvision\n",
        "from torchvision import transforms\n",
        "import torch.nn as nn\n",
        "import time\n",
        "import os\n",
        "import copy\n",
        "from torchvision import datasets, models, transforms\n",
        "from __future__ import print_function\n",
        "import torchsummary\n",
        "import torchvision.models as models"
      ],
      "execution_count": 0,
      "outputs": []
    },
    {
      "cell_type": "code",
      "metadata": {
        "id": "P85imc6UDAQW",
        "colab_type": "code",
        "outputId": "1f404ade-11ac-4457-d7f1-311a31ee0b49",
        "colab": {
          "base_uri": "https://localhost:8080/",
          "height": 68
        }
      },
      "source": [
        "\n",
        "print(torch.__version__)\n",
        "print(torch.cuda.get_device_name())\n",
        "print(torch.cuda.get_device_properties('cuda'))\n",
        "\n"
      ],
      "execution_count": 2,
      "outputs": [
        {
          "output_type": "stream",
          "text": [
            "1.1.0\n",
            "Tesla K80\n",
            "_CudaDeviceProperties(name='Tesla K80', major=3, minor=7, total_memory=11441MB, multi_processor_count=13)\n"
          ],
          "name": "stdout"
        }
      ]
    },
    {
      "cell_type": "markdown",
      "metadata": {
        "id": "kSENmFc42nb_",
        "colab_type": "text"
      },
      "source": [
        "# inisilize\n"
      ]
    },
    {
      "cell_type": "code",
      "metadata": {
        "id": "ubtVg_OxG2rS",
        "colab_type": "code",
        "colab": {}
      },
      "source": [
        "batch_size =256\n",
        "num_class =10\n",
        "num_epochs = 25\n",
        "device = torch.device(\"cuda:0\" if torch.cuda.is_available() else \"cpu\")\n"
      ],
      "execution_count": 0,
      "outputs": []
    },
    {
      "cell_type": "markdown",
      "metadata": {
        "id": "h63WDQJZQeLa",
        "colab_type": "text"
      },
      "source": [
        "# dataset"
      ]
    },
    {
      "cell_type": "code",
      "metadata": {
        "id": "527VciC9HqRw",
        "colab_type": "code",
        "outputId": "9932dab0-465a-4697-807f-f03a8f2820fe",
        "colab": {
          "base_uri": "https://localhost:8080/",
          "height": 68
        }
      },
      "source": [
        "train_dataset = torchvision.datasets.CIFAR10('./MNIST', train=True, transform=transforms.ToTensor() , target_transform=None, download=True)\n",
        "test_dataset = torchvision.datasets.CIFAR10('./MNIST', train=False, transform=transforms.ToTensor(), target_transform=None, download=True)\n",
        "\n"
      ],
      "execution_count": 5,
      "outputs": [
        {
          "output_type": "stream",
          "text": [
            "\r0it [00:00, ?it/s]"
          ],
          "name": "stderr"
        },
        {
          "output_type": "stream",
          "text": [
            "Downloading https://www.cs.toronto.edu/~kriz/cifar-10-python.tar.gz to ./MNIST/cifar-10-python.tar.gz\n"
          ],
          "name": "stdout"
        },
        {
          "output_type": "stream",
          "text": [
            "170500096it [00:06, 27801339.26it/s]                               \n"
          ],
          "name": "stderr"
        },
        {
          "output_type": "stream",
          "text": [
            "Files already downloaded and verified\n"
          ],
          "name": "stdout"
        }
      ]
    },
    {
      "cell_type": "code",
      "metadata": {
        "id": "rcyarksmI1J2",
        "colab_type": "code",
        "colab": {}
      },
      "source": [
        "train_loader = torch.utils.data.DataLoader(dataset=train_dataset,batch_size=batch_size,shuffle=True)\n",
        "test_loader = torch.utils.data.DataLoader(dataset=test_dataset,batch_size=batch_size,shuffle=True)\n"
      ],
      "execution_count": 0,
      "outputs": []
    },
    {
      "cell_type": "code",
      "metadata": {
        "id": "IDwwlk8m0l12",
        "colab_type": "code",
        "colab": {}
      },
      "source": [
        "dataloaders ={'train':train_loader,'test':test_loader}"
      ],
      "execution_count": 0,
      "outputs": []
    },
    {
      "cell_type": "code",
      "metadata": {
        "id": "L9p_FfBtN5Wk",
        "colab_type": "code",
        "outputId": "a4afb387-43e1-4ece-bb31-0e88741e8159",
        "colab": {
          "base_uri": "https://localhost:8080/",
          "height": 221
        }
      },
      "source": [
        "one_train_batch_imgs,one_train_batch_lbls = next(iter(train_loader))\n",
        "print(one_train_batch_imgs.shape)\n",
        "print(one_train_batch_lbls)"
      ],
      "execution_count": 8,
      "outputs": [
        {
          "output_type": "stream",
          "text": [
            "torch.Size([256, 3, 32, 32])\n",
            "tensor([0, 5, 4, 2, 6, 6, 9, 5, 2, 5, 2, 1, 6, 6, 6, 6, 2, 9, 6, 8, 1, 4, 5, 4,\n",
            "        7, 2, 0, 4, 0, 8, 5, 7, 3, 8, 7, 7, 4, 7, 3, 9, 0, 2, 4, 0, 0, 0, 0, 4,\n",
            "        9, 8, 6, 6, 3, 1, 2, 7, 1, 4, 8, 1, 8, 5, 1, 0, 2, 5, 9, 7, 9, 7, 6, 7,\n",
            "        5, 3, 9, 2, 9, 8, 5, 3, 6, 4, 5, 9, 9, 7, 4, 8, 1, 6, 1, 1, 5, 7, 2, 2,\n",
            "        9, 3, 5, 2, 1, 9, 0, 9, 5, 9, 6, 4, 6, 5, 7, 9, 8, 5, 4, 8, 0, 5, 7, 3,\n",
            "        0, 4, 2, 7, 3, 8, 5, 5, 4, 1, 3, 3, 7, 6, 1, 6, 8, 7, 7, 6, 9, 1, 7, 6,\n",
            "        3, 1, 4, 6, 4, 0, 6, 0, 0, 9, 4, 3, 4, 1, 2, 3, 3, 0, 3, 5, 5, 7, 6, 9,\n",
            "        0, 9, 1, 7, 4, 0, 8, 5, 5, 1, 2, 8, 9, 4, 4, 6, 2, 1, 6, 5, 0, 8, 5, 8,\n",
            "        1, 9, 7, 1, 6, 3, 2, 8, 9, 7, 0, 6, 3, 0, 0, 8, 0, 3, 9, 9, 4, 0, 8, 4,\n",
            "        9, 9, 9, 7, 9, 4, 4, 1, 7, 2, 9, 7, 9, 8, 2, 8, 0, 2, 8, 6, 2, 0, 9, 6,\n",
            "        8, 1, 1, 2, 7, 6, 8, 6, 8, 5, 4, 8, 7, 6, 8, 0])\n"
          ],
          "name": "stdout"
        }
      ]
    },
    {
      "cell_type": "code",
      "metadata": {
        "id": "IWxIXj-FPA0y",
        "colab_type": "code",
        "colab": {}
      },
      "source": [
        "#  for batch_number, (images,labels) in enumerate (train_loader):\n",
        "  #  print(batch_number,images.shape)\n"
      ],
      "execution_count": 0,
      "outputs": []
    },
    {
      "cell_type": "markdown",
      "metadata": {
        "id": "OHnhOenRQYLi",
        "colab_type": "text"
      },
      "source": [
        "# model"
      ]
    },
    {
      "cell_type": "code",
      "metadata": {
        "id": "F14i7LOoNIMa",
        "colab_type": "code",
        "colab": {}
      },
      "source": [
        "base = models.resnet18(pretrained=True).to(device)\n",
        "\n",
        "layers = list(base.children())\n",
        "\n",
        "l1 = nn.Sequential(*layers[:-5])\n",
        "# print(l1)\n",
        "\n",
        "l2 = nn.Sequential(*layers[5])\n",
        "# print(l2)\n",
        "\n",
        "l3 = nn.Sequential(*layers[6])\n",
        "# print(l3)\n",
        "\n",
        "l4 = nn.Sequential(*layers[7:9])\n",
        "# print(l4)\n",
        "\n",
        "l5 = nn.Sequential(layers[9])\n",
        "# print(l5)"
      ],
      "execution_count": 0,
      "outputs": []
    },
    {
      "cell_type": "code",
      "metadata": {
        "id": "XQl37-sxUyDo",
        "colab_type": "code",
        "colab": {}
      },
      "source": [
        "def vis(imgs, idx):\n",
        "    img = imgs[idx,...].abs().sum(1).squeeze(0)\n",
        "    img = np.moveaxis(img.cpu().detach().numpy(), 0, -1)\n",
        "    plt.imshow(img, interpolation='bilinear')\n",
        "    # plt.Show()"
      ],
      "execution_count": 0,
      "outputs": []
    },
    {
      "cell_type": "code",
      "metadata": {
        "id": "p-Gofrn-TgNe",
        "colab_type": "code",
        "colab": {
          "base_uri": "https://localhost:8080/",
          "height": 170
        },
        "outputId": "1da78bd0-24a3-40e2-cf5c-8b79613c22d5"
      },
      "source": [
        "imgs, lbls = next(iter(dataloaders['train']))\n",
        "imgs = imgs.to(device)\n",
        "lbls = lbls.to(device)\n",
        "\n",
        "idx = torch.randint(0, batch_size, size=(1,))\n",
        "\n",
        "y1 = l1(imgs)\n",
        "print(y1.shape)\n",
        "# vis(y1, idx)\n",
        "\n",
        "y2 = l2(y1)\n",
        "print(y2.shape)\n",
        "\n",
        "y3 = l3(y2)\n",
        "print(y3.shape)\n",
        "\n",
        "y4 = l4(y3)\n",
        "print(y4.shape)\n",
        "\n",
        "n1 = nn.Conv2d(in_channels=64, out_channels=512, kernel_size=1, stride=8).to(device)\n",
        "z1 = n1(y1) * y4\n",
        "z1 = z1.view(z1.size(0), -1)\n",
        "print('z1: ', z1.shape)\n",
        "\n",
        "n2 = nn.Conv2d(in_channels=128, out_channels=512, kernel_size=1, stride=4).to(device)\n",
        "z2 = n2(y2) * y4\n",
        "z2 = z2.view(z2.size(0), -1)\n",
        "print('z2: ', z2.shape)\n",
        "\n",
        "n3 = nn.Conv2d(in_channels=256, out_channels=512, kernel_size=1, stride=2).to(device)\n",
        "z3 = n3(y3) * y4\n",
        "z3 = z3.view(z3.size(0), -1)\n",
        "print('z3: ', z3.shape)\n",
        "\n",
        "zt = torch.cat((z1, z2, z3), dim=1)\n",
        "print(zt.shape)\n",
        "\n",
        "fc = nn.Linear(in_features=512*3, out_features=10, bias=False).to(device)\n",
        "output = fc(zt)\n",
        "output.shape"
      ],
      "execution_count": 135,
      "outputs": [
        {
          "output_type": "stream",
          "text": [
            "torch.Size([256, 64, 8, 8])\n",
            "torch.Size([256, 128, 4, 4])\n",
            "torch.Size([256, 256, 2, 2])\n",
            "torch.Size([256, 512, 1, 1])\n",
            "z1:  torch.Size([256, 512])\n",
            "z2:  torch.Size([256, 512])\n",
            "z3:  torch.Size([256, 512])\n",
            "torch.Size([256, 1536])\n"
          ],
          "name": "stdout"
        },
        {
          "output_type": "execute_result",
          "data": {
            "text/plain": [
              "torch.Size([256, 10])"
            ]
          },
          "metadata": {
            "tags": []
          },
          "execution_count": 135
        }
      ]
    },
    {
      "cell_type": "code",
      "metadata": {
        "id": "SzJo0p1ZdwsO",
        "colab_type": "code",
        "colab": {
          "base_uri": "https://localhost:8080/",
          "height": 391
        },
        "outputId": "16ee4cd9-ce38-4895-b0a9-4c96b12f0cea"
      },
      "source": [
        "l1[0] = nn.Conv2d(3, 64, (9,9), stride=(2,2), bias=False)\n",
        "l1"
      ],
      "execution_count": 139,
      "outputs": [
        {
          "output_type": "execute_result",
          "data": {
            "text/plain": [
              "Sequential(\n",
              "  (0): Conv2d(3, 64, kernel_size=(9, 9), stride=(2, 2), bias=False)\n",
              "  (1): BatchNorm2d(64, eps=1e-05, momentum=0.1, affine=True, track_running_stats=True)\n",
              "  (2): ReLU(inplace)\n",
              "  (3): MaxPool2d(kernel_size=3, stride=2, padding=1, dilation=1, ceil_mode=False)\n",
              "  (4): Sequential(\n",
              "    (0): BasicBlock(\n",
              "      (conv1): Conv2d(64, 64, kernel_size=(3, 3), stride=(1, 1), padding=(1, 1), bias=False)\n",
              "      (bn1): BatchNorm2d(64, eps=1e-05, momentum=0.1, affine=True, track_running_stats=True)\n",
              "      (relu): ReLU(inplace)\n",
              "      (conv2): Conv2d(64, 64, kernel_size=(3, 3), stride=(1, 1), padding=(1, 1), bias=False)\n",
              "      (bn2): BatchNorm2d(64, eps=1e-05, momentum=0.1, affine=True, track_running_stats=True)\n",
              "    )\n",
              "    (1): BasicBlock(\n",
              "      (conv1): Conv2d(64, 64, kernel_size=(3, 3), stride=(1, 1), padding=(1, 1), bias=False)\n",
              "      (bn1): BatchNorm2d(64, eps=1e-05, momentum=0.1, affine=True, track_running_stats=True)\n",
              "      (relu): ReLU(inplace)\n",
              "      (conv2): Conv2d(64, 64, kernel_size=(3, 3), stride=(1, 1), padding=(1, 1), bias=False)\n",
              "      (bn2): BatchNorm2d(64, eps=1e-05, momentum=0.1, affine=True, track_running_stats=True)\n",
              "    )\n",
              "  )\n",
              ")"
            ]
          },
          "metadata": {
            "tags": []
          },
          "execution_count": 139
        }
      ]
    },
    {
      "cell_type": "code",
      "metadata": {
        "id": "okOqP0OOX1kJ",
        "colab_type": "code",
        "colab": {
          "base_uri": "https://localhost:8080/",
          "height": 34
        },
        "outputId": "3af0e495-fc77-45cb-87ee-33e2b507a448"
      },
      "source": [
        "256*4"
      ],
      "execution_count": 122,
      "outputs": [
        {
          "output_type": "execute_result",
          "data": {
            "text/plain": [
              "1024"
            ]
          },
          "metadata": {
            "tags": []
          },
          "execution_count": 122
        }
      ]
    },
    {
      "cell_type": "code",
      "metadata": {
        "id": "h1XGosa4T6hS",
        "colab_type": "code",
        "colab": {}
      },
      "source": [
        "class convnet(nn.Module):\n",
        "    def __init__(self,num_class):\n",
        "        super(convnet,self).__init__()\n",
        "        self.base = models.resnet18(pretrained=True)\n",
        "        self.base.fc = nn.Linear(in_features=512, out_features=10, bias=False)\n",
        "        \n",
        "    def forward(self,x):\n",
        "        y = self.base(x)\n",
        "        return y\n"
      ],
      "execution_count": 0,
      "outputs": []
    },
    {
      "cell_type": "code",
      "metadata": {
        "id": "b5AZamErWwmF",
        "colab_type": "code",
        "outputId": "bb6a1240-37b3-4c24-b11b-7274830388bb",
        "colab": {
          "base_uri": "https://localhost:8080/",
          "height": 1000
        }
      },
      "source": [
        "model = convnet(num_class).to(device)\n",
        "print(model)\n",
        "# torchsummary.summary(model, (3,32,32))\n"
      ],
      "execution_count": 19,
      "outputs": [
        {
          "output_type": "stream",
          "text": [
            "convnet(\n",
            "  (base): ResNet(\n",
            "    (conv1): Conv2d(3, 64, kernel_size=(7, 7), stride=(2, 2), padding=(3, 3), bias=False)\n",
            "    (bn1): BatchNorm2d(64, eps=1e-05, momentum=0.1, affine=True, track_running_stats=True)\n",
            "    (relu): ReLU(inplace)\n",
            "    (maxpool): MaxPool2d(kernel_size=3, stride=2, padding=1, dilation=1, ceil_mode=False)\n",
            "    (layer1): Sequential(\n",
            "      (0): BasicBlock(\n",
            "        (conv1): Conv2d(64, 64, kernel_size=(3, 3), stride=(1, 1), padding=(1, 1), bias=False)\n",
            "        (bn1): BatchNorm2d(64, eps=1e-05, momentum=0.1, affine=True, track_running_stats=True)\n",
            "        (relu): ReLU(inplace)\n",
            "        (conv2): Conv2d(64, 64, kernel_size=(3, 3), stride=(1, 1), padding=(1, 1), bias=False)\n",
            "        (bn2): BatchNorm2d(64, eps=1e-05, momentum=0.1, affine=True, track_running_stats=True)\n",
            "      )\n",
            "      (1): BasicBlock(\n",
            "        (conv1): Conv2d(64, 64, kernel_size=(3, 3), stride=(1, 1), padding=(1, 1), bias=False)\n",
            "        (bn1): BatchNorm2d(64, eps=1e-05, momentum=0.1, affine=True, track_running_stats=True)\n",
            "        (relu): ReLU(inplace)\n",
            "        (conv2): Conv2d(64, 64, kernel_size=(3, 3), stride=(1, 1), padding=(1, 1), bias=False)\n",
            "        (bn2): BatchNorm2d(64, eps=1e-05, momentum=0.1, affine=True, track_running_stats=True)\n",
            "      )\n",
            "    )\n",
            "    (layer2): Sequential(\n",
            "      (0): BasicBlock(\n",
            "        (conv1): Conv2d(64, 128, kernel_size=(3, 3), stride=(2, 2), padding=(1, 1), bias=False)\n",
            "        (bn1): BatchNorm2d(128, eps=1e-05, momentum=0.1, affine=True, track_running_stats=True)\n",
            "        (relu): ReLU(inplace)\n",
            "        (conv2): Conv2d(128, 128, kernel_size=(3, 3), stride=(1, 1), padding=(1, 1), bias=False)\n",
            "        (bn2): BatchNorm2d(128, eps=1e-05, momentum=0.1, affine=True, track_running_stats=True)\n",
            "        (downsample): Sequential(\n",
            "          (0): Conv2d(64, 128, kernel_size=(1, 1), stride=(2, 2), bias=False)\n",
            "          (1): BatchNorm2d(128, eps=1e-05, momentum=0.1, affine=True, track_running_stats=True)\n",
            "        )\n",
            "      )\n",
            "      (1): BasicBlock(\n",
            "        (conv1): Conv2d(128, 128, kernel_size=(3, 3), stride=(1, 1), padding=(1, 1), bias=False)\n",
            "        (bn1): BatchNorm2d(128, eps=1e-05, momentum=0.1, affine=True, track_running_stats=True)\n",
            "        (relu): ReLU(inplace)\n",
            "        (conv2): Conv2d(128, 128, kernel_size=(3, 3), stride=(1, 1), padding=(1, 1), bias=False)\n",
            "        (bn2): BatchNorm2d(128, eps=1e-05, momentum=0.1, affine=True, track_running_stats=True)\n",
            "      )\n",
            "    )\n",
            "    (layer3): Sequential(\n",
            "      (0): BasicBlock(\n",
            "        (conv1): Conv2d(128, 256, kernel_size=(3, 3), stride=(2, 2), padding=(1, 1), bias=False)\n",
            "        (bn1): BatchNorm2d(256, eps=1e-05, momentum=0.1, affine=True, track_running_stats=True)\n",
            "        (relu): ReLU(inplace)\n",
            "        (conv2): Conv2d(256, 256, kernel_size=(3, 3), stride=(1, 1), padding=(1, 1), bias=False)\n",
            "        (bn2): BatchNorm2d(256, eps=1e-05, momentum=0.1, affine=True, track_running_stats=True)\n",
            "        (downsample): Sequential(\n",
            "          (0): Conv2d(128, 256, kernel_size=(1, 1), stride=(2, 2), bias=False)\n",
            "          (1): BatchNorm2d(256, eps=1e-05, momentum=0.1, affine=True, track_running_stats=True)\n",
            "        )\n",
            "      )\n",
            "      (1): BasicBlock(\n",
            "        (conv1): Conv2d(256, 256, kernel_size=(3, 3), stride=(1, 1), padding=(1, 1), bias=False)\n",
            "        (bn1): BatchNorm2d(256, eps=1e-05, momentum=0.1, affine=True, track_running_stats=True)\n",
            "        (relu): ReLU(inplace)\n",
            "        (conv2): Conv2d(256, 256, kernel_size=(3, 3), stride=(1, 1), padding=(1, 1), bias=False)\n",
            "        (bn2): BatchNorm2d(256, eps=1e-05, momentum=0.1, affine=True, track_running_stats=True)\n",
            "      )\n",
            "    )\n",
            "    (layer4): Sequential(\n",
            "      (0): BasicBlock(\n",
            "        (conv1): Conv2d(256, 512, kernel_size=(3, 3), stride=(2, 2), padding=(1, 1), bias=False)\n",
            "        (bn1): BatchNorm2d(512, eps=1e-05, momentum=0.1, affine=True, track_running_stats=True)\n",
            "        (relu): ReLU(inplace)\n",
            "        (conv2): Conv2d(512, 512, kernel_size=(3, 3), stride=(1, 1), padding=(1, 1), bias=False)\n",
            "        (bn2): BatchNorm2d(512, eps=1e-05, momentum=0.1, affine=True, track_running_stats=True)\n",
            "        (downsample): Sequential(\n",
            "          (0): Conv2d(256, 512, kernel_size=(1, 1), stride=(2, 2), bias=False)\n",
            "          (1): BatchNorm2d(512, eps=1e-05, momentum=0.1, affine=True, track_running_stats=True)\n",
            "        )\n",
            "      )\n",
            "      (1): BasicBlock(\n",
            "        (conv1): Conv2d(512, 512, kernel_size=(3, 3), stride=(1, 1), padding=(1, 1), bias=False)\n",
            "        (bn1): BatchNorm2d(512, eps=1e-05, momentum=0.1, affine=True, track_running_stats=True)\n",
            "        (relu): ReLU(inplace)\n",
            "        (conv2): Conv2d(512, 512, kernel_size=(3, 3), stride=(1, 1), padding=(1, 1), bias=False)\n",
            "        (bn2): BatchNorm2d(512, eps=1e-05, momentum=0.1, affine=True, track_running_stats=True)\n",
            "      )\n",
            "    )\n",
            "    (avgpool): AdaptiveAvgPool2d(output_size=(1, 1))\n",
            "    (fc): Linear(in_features=512, out_features=10, bias=False)\n",
            "  )\n",
            ")\n"
          ],
          "name": "stdout"
        }
      ]
    },
    {
      "cell_type": "code",
      "metadata": {
        "id": "dAHW8VpZHjJ1",
        "colab_type": "code",
        "colab": {
          "base_uri": "https://localhost:8080/",
          "height": 1000
        },
        "outputId": "3e09d597-82e8-4eee-cfb0-870adf939cca"
      },
      "source": [
        "for name, param in model.named_parameters():\n",
        "    print(name)"
      ],
      "execution_count": 37,
      "outputs": [
        {
          "output_type": "stream",
          "text": [
            "base.conv1.weight\n",
            "base.bn1.weight\n",
            "base.bn1.bias\n",
            "base.layer1.0.conv1.weight\n",
            "base.layer1.0.bn1.weight\n",
            "base.layer1.0.bn1.bias\n",
            "base.layer1.0.conv2.weight\n",
            "base.layer1.0.bn2.weight\n",
            "base.layer1.0.bn2.bias\n",
            "base.layer1.1.conv1.weight\n",
            "base.layer1.1.bn1.weight\n",
            "base.layer1.1.bn1.bias\n",
            "base.layer1.1.conv2.weight\n",
            "base.layer1.1.bn2.weight\n",
            "base.layer1.1.bn2.bias\n",
            "base.layer2.0.conv1.weight\n",
            "base.layer2.0.bn1.weight\n",
            "base.layer2.0.bn1.bias\n",
            "base.layer2.0.conv2.weight\n",
            "base.layer2.0.bn2.weight\n",
            "base.layer2.0.bn2.bias\n",
            "base.layer2.0.downsample.0.weight\n",
            "base.layer2.0.downsample.1.weight\n",
            "base.layer2.0.downsample.1.bias\n",
            "base.layer2.1.conv1.weight\n",
            "base.layer2.1.bn1.weight\n",
            "base.layer2.1.bn1.bias\n",
            "base.layer2.1.conv2.weight\n",
            "base.layer2.1.bn2.weight\n",
            "base.layer2.1.bn2.bias\n",
            "base.layer3.0.conv1.weight\n",
            "base.layer3.0.bn1.weight\n",
            "base.layer3.0.bn1.bias\n",
            "base.layer3.0.conv2.weight\n",
            "base.layer3.0.bn2.weight\n",
            "base.layer3.0.bn2.bias\n",
            "base.layer3.0.downsample.0.weight\n",
            "base.layer3.0.downsample.1.weight\n",
            "base.layer3.0.downsample.1.bias\n",
            "base.layer3.1.conv1.weight\n",
            "base.layer3.1.bn1.weight\n",
            "base.layer3.1.bn1.bias\n",
            "base.layer3.1.conv2.weight\n",
            "base.layer3.1.bn2.weight\n",
            "base.layer3.1.bn2.bias\n",
            "base.layer4.0.conv1.weight\n",
            "base.layer4.0.bn1.weight\n",
            "base.layer4.0.bn1.bias\n",
            "base.layer4.0.conv2.weight\n",
            "base.layer4.0.bn2.weight\n",
            "base.layer4.0.bn2.bias\n",
            "base.layer4.0.downsample.0.weight\n",
            "base.layer4.0.downsample.1.weight\n",
            "base.layer4.0.downsample.1.bias\n",
            "base.layer4.1.conv1.weight\n",
            "base.layer4.1.bn1.weight\n",
            "base.layer4.1.bn1.bias\n",
            "base.layer4.1.conv2.weight\n",
            "base.layer4.1.bn2.weight\n",
            "base.layer4.1.bn2.bias\n",
            "base.fc.weight\n"
          ],
          "name": "stdout"
        }
      ]
    },
    {
      "cell_type": "code",
      "metadata": {
        "id": "ewrfLLopF6yY",
        "colab_type": "code",
        "colab": {
          "base_uri": "https://localhost:8080/",
          "height": 544
        },
        "outputId": "18739655-36e6-4724-dd87-c77e31b0c75d"
      },
      "source": [
        "flag = False\n",
        "\n",
        "for name, param in model.named_parameters():\n",
        "    if 'layer3.0' in name or flag:\n",
        "        param.requires_grad = True\n",
        "        print(name)\n",
        "        flag = True\n",
        "    else:\n",
        "        param.requires_grad = False"
      ],
      "execution_count": 41,
      "outputs": [
        {
          "output_type": "stream",
          "text": [
            "base.layer3.0.conv1.weight\n",
            "base.layer3.0.bn1.weight\n",
            "base.layer3.0.bn1.bias\n",
            "base.layer3.0.conv2.weight\n",
            "base.layer3.0.bn2.weight\n",
            "base.layer3.0.bn2.bias\n",
            "base.layer3.0.downsample.0.weight\n",
            "base.layer3.0.downsample.1.weight\n",
            "base.layer3.0.downsample.1.bias\n",
            "base.layer3.1.conv1.weight\n",
            "base.layer3.1.bn1.weight\n",
            "base.layer3.1.bn1.bias\n",
            "base.layer3.1.conv2.weight\n",
            "base.layer3.1.bn2.weight\n",
            "base.layer3.1.bn2.bias\n",
            "base.layer4.0.conv1.weight\n",
            "base.layer4.0.bn1.weight\n",
            "base.layer4.0.bn1.bias\n",
            "base.layer4.0.conv2.weight\n",
            "base.layer4.0.bn2.weight\n",
            "base.layer4.0.bn2.bias\n",
            "base.layer4.0.downsample.0.weight\n",
            "base.layer4.0.downsample.1.weight\n",
            "base.layer4.0.downsample.1.bias\n",
            "base.layer4.1.conv1.weight\n",
            "base.layer4.1.bn1.weight\n",
            "base.layer4.1.bn1.bias\n",
            "base.layer4.1.conv2.weight\n",
            "base.layer4.1.bn2.weight\n",
            "base.layer4.1.bn2.bias\n",
            "base.fc.weight\n"
          ],
          "name": "stdout"
        }
      ]
    },
    {
      "cell_type": "code",
      "metadata": {
        "id": "bNZrJbG4CFzQ",
        "colab_type": "code",
        "colab": {
          "base_uri": "https://localhost:8080/",
          "height": 34
        },
        "outputId": "d6c1a8eb-22f2-4248-ef51-0edfd7eb664c"
      },
      "source": [
        "model.base.fc"
      ],
      "execution_count": 32,
      "outputs": [
        {
          "output_type": "execute_result",
          "data": {
            "text/plain": [
              "Linear(in_features=512, out_features=10, bias=False)"
            ]
          },
          "metadata": {
            "tags": []
          },
          "execution_count": 32
        }
      ]
    },
    {
      "cell_type": "code",
      "metadata": {
        "id": "YqnKXWXTd24U",
        "colab_type": "code",
        "outputId": "2616c065-d572-484e-f8a8-7836379288ac",
        "colab": {
          "base_uri": "https://localhost:8080/",
          "height": 34
        }
      },
      "source": [
        "a = next(iter(dataloaders['train']))\n",
        "a[0].shape\n",
        "model(a[0].cuda()).shape"
      ],
      "execution_count": 33,
      "outputs": [
        {
          "output_type": "execute_result",
          "data": {
            "text/plain": [
              "torch.Size([256, 10])"
            ]
          },
          "metadata": {
            "tags": []
          },
          "execution_count": 33
        }
      ]
    },
    {
      "cell_type": "code",
      "metadata": {
        "id": "5cg2kSAlJqCM",
        "colab_type": "code",
        "colab": {
          "base_uri": "https://localhost:8080/",
          "height": 303
        },
        "outputId": "1012bbee-ab8f-4db1-eb6c-7652b346f1e8"
      },
      "source": [
        "imgs, lbls = next(iter(dataloaders['train']))\n",
        "imgs = imgs.to(device)\n",
        "lbls = lbls.to(device)\n",
        "print(imgs.shape)\n",
        "\n",
        "import numpy as np\n",
        "import matplotlib.pyplot as plt\n",
        "\n",
        "idx = torch.randint(0, batch_size, size=(1,))\n",
        "img = imgs[idx,...].squeeze(0)\n",
        "\n",
        "img = np.moveaxis(img.cpu().numpy(), 0, -1)\n",
        "img.shape\n",
        "\n",
        "plt.imshow(img, interpolation='bilinear')"
      ],
      "execution_count": 54,
      "outputs": [
        {
          "output_type": "stream",
          "text": [
            "torch.Size([256, 3, 32, 32])\n"
          ],
          "name": "stdout"
        },
        {
          "output_type": "execute_result",
          "data": {
            "text/plain": [
              "<matplotlib.image.AxesImage at 0x7fad542c3ba8>"
            ]
          },
          "metadata": {
            "tags": []
          },
          "execution_count": 54
        },
        {
          "output_type": "display_data",
          "data": {
            "image/png": "[encoded data removed]",
            "text/plain": [
              "<Figure size 432x288 with 1 Axes>"
            ]
          },
          "metadata": {
            "tags": []
          }
        }
      ]
    },
    {
      "cell_type": "code",
      "metadata": {
        "id": "v6UyCUeALqZz",
        "colab_type": "code",
        "colab": {
          "base_uri": "https://localhost:8080/",
          "height": 289
        },
        "outputId": "76da6ebb-e527-4d61-ab25-9f9e04945afe"
      },
      "source": [
        "y = model(imgs)\n",
        "y[idx,...]\n",
        "\n",
        "model.base.layer1"
      ],
      "execution_count": 62,
      "outputs": [
        {
          "output_type": "execute_result",
          "data": {
            "text/plain": [
              "Sequential(\n",
              "  (0): BasicBlock(\n",
              "    (conv1): Conv2d(64, 64, kernel_size=(3, 3), stride=(1, 1), padding=(1, 1), bias=False)\n",
              "    (bn1): BatchNorm2d(64, eps=1e-05, momentum=0.1, affine=True, track_running_stats=True)\n",
              "    (relu): ReLU(inplace)\n",
              "    (conv2): Conv2d(64, 64, kernel_size=(3, 3), stride=(1, 1), padding=(1, 1), bias=False)\n",
              "    (bn2): BatchNorm2d(64, eps=1e-05, momentum=0.1, affine=True, track_running_stats=True)\n",
              "  )\n",
              "  (1): BasicBlock(\n",
              "    (conv1): Conv2d(64, 64, kernel_size=(3, 3), stride=(1, 1), padding=(1, 1), bias=False)\n",
              "    (bn1): BatchNorm2d(64, eps=1e-05, momentum=0.1, affine=True, track_running_stats=True)\n",
              "    (relu): ReLU(inplace)\n",
              "    (conv2): Conv2d(64, 64, kernel_size=(3, 3), stride=(1, 1), padding=(1, 1), bias=False)\n",
              "    (bn2): BatchNorm2d(64, eps=1e-05, momentum=0.1, affine=True, track_running_stats=True)\n",
              "  )\n",
              ")"
            ]
          },
          "metadata": {
            "tags": []
          },
          "execution_count": 62
        }
      ]
    },
    {
      "cell_type": "markdown",
      "metadata": {
        "id": "6sNsXq-Orq4h",
        "colab_type": "text"
      },
      "source": [
        "# config \n"
      ]
    },
    {
      "cell_type": "code",
      "metadata": {
        "id": "Xek-L_LOr3iQ",
        "colab_type": "code",
        "colab": {}
      },
      "source": [
        "criterion = nn.CrossEntropyLoss()\n",
        "optimizer = torch.optim.SGD(model.parameters(),lr = 0.001,momentum=0.9)"
      ],
      "execution_count": 0,
      "outputs": []
    },
    {
      "cell_type": "markdown",
      "metadata": {
        "id": "ZfQNcE2bsn6o",
        "colab_type": "text"
      },
      "source": [
        "# trainer"
      ]
    },
    {
      "cell_type": "code",
      "metadata": {
        "id": "YiKipxfE8RRZ",
        "colab_type": "code",
        "colab": {}
      },
      "source": [
        "def train_model(model, dataloaders, criterion, optimizer, num_epochs):\n",
        "    since = time.time()\n",
        "\n",
        "    test_acc_history = []\n",
        "\n",
        "    best_model_wts = copy.deepcopy(model.state_dict())\n",
        "    best_acc = 0.0\n",
        "\n",
        "    for epoch in range(num_epochs):\n",
        "        print('Epoch {}/{}'.format(epoch, num_epochs - 1))\n",
        "        print('-' * 10)\n",
        "\n",
        "        # Each epoch has a training and validation phase\n",
        "        for phase in ['train', 'test']:\n",
        "            if phase == 'train':\n",
        "                model.train()  # Set model to training mode\n",
        "            else:\n",
        "                model.eval()   # Set model to evaluate mode\n",
        "\n",
        "            running_loss = 0.0\n",
        "            running_corrects = 0\n",
        "\n",
        "            # Iterate over data.\n",
        "            for inputs, labels in dataloaders[phase]:\n",
        "                inputs = inputs.to(device)\n",
        "                labels = labels.to(device)\n",
        "\n",
        "                # zero the parameter gradients\n",
        "                optimizer.zero_grad()\n",
        "\n",
        "                # forward\n",
        "                # track history if only in train\n",
        "                with torch.set_grad_enabled(phase == 'train'):\n",
        "                    # Get model outputs and calculate loss\n",
        "                    # Special case for inception because in training it has an auxiliary output. In train\n",
        "                    #   mode we calculate the loss by summing the final output and the auxiliary output\n",
        "                    #   but in testing we only consider the final output.\n",
        "                    \n",
        "                    \n",
        "                    outputs = model(inputs)\n",
        "                    loss = criterion(outputs, labels)\n",
        "\n",
        "                    _, preds = torch.max(outputs, 1)\n",
        "\n",
        "                    # backward + optimize only if in training phase\n",
        "                    if phase == 'train':\n",
        "                        loss.backward()\n",
        "                        optimizer.step()\n",
        "\n",
        "                # statistics\n",
        "                running_loss += loss.item() * inputs.size(0)\n",
        "                running_corrects += torch.sum(preds == labels.data)\n",
        "\n",
        "            epoch_loss = running_loss / len(dataloaders[phase].dataset)\n",
        "            epoch_acc = running_corrects.double() / len(dataloaders[phase].dataset)\n",
        "\n",
        "            print('{} Loss: {:.4f} Acc: {:.4f}'.format(phase, epoch_loss, epoch_acc))\n",
        "\n",
        "            # deep copy the model\n",
        "            if phase == 'test' and epoch_acc > best_acc:\n",
        "                best_acc = epoch_acc\n",
        "                best_model_wts = copy.deepcopy(model.state_dict())\n",
        "            if phase == 'test':\n",
        "                test_acc_history.append(epoch_acc)\n",
        "\n",
        "        print()\n",
        "\n",
        "    time_elapsed = time.time() - since\n",
        "    print('Training complete in {:.0f}m {:.0f}s'.format(time_elapsed // 60, time_elapsed % 60))\n",
        "    print('Best test Acc: {:4f}'.format(best_acc))\n",
        "\n",
        "    # load best model weights\n",
        "    model.load_state_dict(best_model_wts)\n",
        "    return model, test_acc_history"
      ],
      "execution_count": 0,
      "outputs": []
    },
    {
      "cell_type": "code",
      "metadata": {
        "id": "no53PMRAvMGD",
        "colab_type": "code",
        "outputId": "570fd3ca-bbc0-40af-8be7-42bc405fca07",
        "colab": {
          "base_uri": "https://localhost:8080/",
          "height": 850
        }
      },
      "source": [
        "model, hist = train_model(model, dataloaders, criterion, optimizer, num_epochs=num_epochs)"
      ],
      "execution_count": 36,
      "outputs": [
        {
          "output_type": "stream",
          "text": [
            "Epoch 0/24\n",
            "----------\n",
            "train Loss: 0.2335 Acc: 0.9276\n",
            "test Loss: 0.8158 Acc: 0.7503\n",
            "\n",
            "Epoch 1/24\n",
            "----------\n",
            "train Loss: 0.2245 Acc: 0.9278\n",
            "test Loss: 0.8326 Acc: 0.7519\n",
            "\n",
            "Epoch 2/24\n",
            "----------\n",
            "train Loss: 0.2224 Acc: 0.9288\n",
            "test Loss: 0.8445 Acc: 0.7522\n",
            "\n",
            "Epoch 3/24\n",
            "----------\n",
            "train Loss: 0.2151 Acc: 0.9309\n",
            "test Loss: 0.8607 Acc: 0.7519\n",
            "\n",
            "Epoch 4/24\n",
            "----------\n"
          ],
          "name": "stdout"
        },
        {
          "output_type": "stream",
          "text": [
            "Exception ignored in: <bound method Image.__del__ of <PIL.Image.Image image mode=RGB size=32x32 at 0x7FAD5998DB00>>\n",
            "Traceback (most recent call last):\n",
            "  File \"/usr/local/lib/python3.6/dist-packages/PIL/Image.py\", line 585, in __del__\n",
            "    if (hasattr(self, 'fp') and hasattr(self, '_exclusive_fp')\n",
            "KeyboardInterrupt\n"
          ],
          "name": "stderr"
        },
        {
          "output_type": "stream",
          "text": [
            "train Loss: 0.2150 Acc: 0.9306\n",
            "test Loss: 0.8675 Acc: 0.7503\n",
            "\n",
            "Epoch 5/24\n",
            "----------\n"
          ],
          "name": "stdout"
        },
        {
          "output_type": "error",
          "ename": "KeyboardInterrupt",
          "evalue": "ignored",
          "traceback": [
            "\u001b[0;31m---------------------------------------------------------------------------\u001b[0m",
            "\u001b[0;31mKeyboardInterrupt\u001b[0m                         Traceback (most recent call last)",
            "\u001b[0;32m<ipython-input-36-3e1efc0b75cf>\u001b[0m in \u001b[0;36m<module>\u001b[0;34m()\u001b[0m\n\u001b[0;32m----> 1\u001b[0;31m \u001b[0mmodel\u001b[0m\u001b[0;34m,\u001b[0m \u001b[0mhist\u001b[0m \u001b[0;34m=\u001b[0m \u001b[0mtrain_model\u001b[0m\u001b[0;34m(\u001b[0m\u001b[0mmodel\u001b[0m\u001b[0;34m,\u001b[0m \u001b[0mdataloaders\u001b[0m\u001b[0;34m,\u001b[0m \u001b[0mcriterion\u001b[0m\u001b[0;34m,\u001b[0m \u001b[0moptimizer\u001b[0m\u001b[0;34m,\u001b[0m \u001b[0mnum_epochs\u001b[0m\u001b[0;34m=\u001b[0m\u001b[0mnum_epochs\u001b[0m\u001b[0;34m)\u001b[0m\u001b[0;34m\u001b[0m\u001b[0;34m\u001b[0m\u001b[0m\n\u001b[0m",
            "\u001b[0;32m<ipython-input-35-91b82c7e11dd>\u001b[0m in \u001b[0;36mtrain_model\u001b[0;34m(model, dataloaders, criterion, optimizer, num_epochs)\u001b[0m\n\u001b[1;32m     22\u001b[0m \u001b[0;34m\u001b[0m\u001b[0m\n\u001b[1;32m     23\u001b[0m             \u001b[0;31m# Iterate over data.\u001b[0m\u001b[0;34m\u001b[0m\u001b[0;34m\u001b[0m\u001b[0;34m\u001b[0m\u001b[0m\n\u001b[0;32m---> 24\u001b[0;31m             \u001b[0;32mfor\u001b[0m \u001b[0minputs\u001b[0m\u001b[0;34m,\u001b[0m \u001b[0mlabels\u001b[0m \u001b[0;32min\u001b[0m \u001b[0mdataloaders\u001b[0m\u001b[0;34m[\u001b[0m\u001b[0mphase\u001b[0m\u001b[0;34m]\u001b[0m\u001b[0;34m:\u001b[0m\u001b[0;34m\u001b[0m\u001b[0;34m\u001b[0m\u001b[0m\n\u001b[0m\u001b[1;32m     25\u001b[0m                 \u001b[0minputs\u001b[0m \u001b[0;34m=\u001b[0m \u001b[0minputs\u001b[0m\u001b[0;34m.\u001b[0m\u001b[0mto\u001b[0m\u001b[0;34m(\u001b[0m\u001b[0mdevice\u001b[0m\u001b[0;34m)\u001b[0m\u001b[0;34m\u001b[0m\u001b[0;34m\u001b[0m\u001b[0m\n\u001b[1;32m     26\u001b[0m                 \u001b[0mlabels\u001b[0m \u001b[0;34m=\u001b[0m \u001b[0mlabels\u001b[0m\u001b[0;34m.\u001b[0m\u001b[0mto\u001b[0m\u001b[0;34m(\u001b[0m\u001b[0mdevice\u001b[0m\u001b[0;34m)\u001b[0m\u001b[0;34m\u001b[0m\u001b[0;34m\u001b[0m\u001b[0m\n",
            "\u001b[0;32m/usr/local/lib/python3.6/dist-packages/torch/utils/data/dataloader.py\u001b[0m in \u001b[0;36m__next__\u001b[0;34m(self)\u001b[0m\n\u001b[1;32m    558\u001b[0m         \u001b[0;32mif\u001b[0m \u001b[0mself\u001b[0m\u001b[0;34m.\u001b[0m\u001b[0mnum_workers\u001b[0m \u001b[0;34m==\u001b[0m \u001b[0;36m0\u001b[0m\u001b[0;34m:\u001b[0m  \u001b[0;31m# same-process loading\u001b[0m\u001b[0;34m\u001b[0m\u001b[0;34m\u001b[0m\u001b[0m\n\u001b[1;32m    559\u001b[0m             \u001b[0mindices\u001b[0m \u001b[0;34m=\u001b[0m \u001b[0mnext\u001b[0m\u001b[0;34m(\u001b[0m\u001b[0mself\u001b[0m\u001b[0;34m.\u001b[0m\u001b[0msample_iter\u001b[0m\u001b[0;34m)\u001b[0m  \u001b[0;31m# may raise StopIteration\u001b[0m\u001b[0;34m\u001b[0m\u001b[0;34m\u001b[0m\u001b[0m\n\u001b[0;32m--> 560\u001b[0;31m             \u001b[0mbatch\u001b[0m \u001b[0;34m=\u001b[0m \u001b[0mself\u001b[0m\u001b[0;34m.\u001b[0m\u001b[0mcollate_fn\u001b[0m\u001b[0;34m(\u001b[0m\u001b[0;34m[\u001b[0m\u001b[0mself\u001b[0m\u001b[0;34m.\u001b[0m\u001b[0mdataset\u001b[0m\u001b[0;34m[\u001b[0m\u001b[0mi\u001b[0m\u001b[0;34m]\u001b[0m \u001b[0;32mfor\u001b[0m \u001b[0mi\u001b[0m \u001b[0;32min\u001b[0m \u001b[0mindices\u001b[0m\u001b[0;34m]\u001b[0m\u001b[0;34m)\u001b[0m\u001b[0;34m\u001b[0m\u001b[0;34m\u001b[0m\u001b[0m\n\u001b[0m\u001b[1;32m    561\u001b[0m             \u001b[0;32mif\u001b[0m \u001b[0mself\u001b[0m\u001b[0;34m.\u001b[0m\u001b[0mpin_memory\u001b[0m\u001b[0;34m:\u001b[0m\u001b[0;34m\u001b[0m\u001b[0;34m\u001b[0m\u001b[0m\n\u001b[1;32m    562\u001b[0m                 \u001b[0mbatch\u001b[0m \u001b[0;34m=\u001b[0m \u001b[0m_utils\u001b[0m\u001b[0;34m.\u001b[0m\u001b[0mpin_memory\u001b[0m\u001b[0;34m.\u001b[0m\u001b[0mpin_memory_batch\u001b[0m\u001b[0;34m(\u001b[0m\u001b[0mbatch\u001b[0m\u001b[0;34m)\u001b[0m\u001b[0;34m\u001b[0m\u001b[0;34m\u001b[0m\u001b[0m\n",
            "\u001b[0;32m/usr/local/lib/python3.6/dist-packages/torch/utils/data/dataloader.py\u001b[0m in \u001b[0;36m<listcomp>\u001b[0;34m(.0)\u001b[0m\n\u001b[1;32m    558\u001b[0m         \u001b[0;32mif\u001b[0m \u001b[0mself\u001b[0m\u001b[0;34m.\u001b[0m\u001b[0mnum_workers\u001b[0m \u001b[0;34m==\u001b[0m \u001b[0;36m0\u001b[0m\u001b[0;34m:\u001b[0m  \u001b[0;31m# same-process loading\u001b[0m\u001b[0;34m\u001b[0m\u001b[0;34m\u001b[0m\u001b[0m\n\u001b[1;32m    559\u001b[0m             \u001b[0mindices\u001b[0m \u001b[0;34m=\u001b[0m \u001b[0mnext\u001b[0m\u001b[0;34m(\u001b[0m\u001b[0mself\u001b[0m\u001b[0;34m.\u001b[0m\u001b[0msample_iter\u001b[0m\u001b[0;34m)\u001b[0m  \u001b[0;31m# may raise StopIteration\u001b[0m\u001b[0;34m\u001b[0m\u001b[0;34m\u001b[0m\u001b[0m\n\u001b[0;32m--> 560\u001b[0;31m             \u001b[0mbatch\u001b[0m \u001b[0;34m=\u001b[0m \u001b[0mself\u001b[0m\u001b[0;34m.\u001b[0m\u001b[0mcollate_fn\u001b[0m\u001b[0;34m(\u001b[0m\u001b[0;34m[\u001b[0m\u001b[0mself\u001b[0m\u001b[0;34m.\u001b[0m\u001b[0mdataset\u001b[0m\u001b[0;34m[\u001b[0m\u001b[0mi\u001b[0m\u001b[0;34m]\u001b[0m \u001b[0;32mfor\u001b[0m \u001b[0mi\u001b[0m \u001b[0;32min\u001b[0m \u001b[0mindices\u001b[0m\u001b[0;34m]\u001b[0m\u001b[0;34m)\u001b[0m\u001b[0;34m\u001b[0m\u001b[0;34m\u001b[0m\u001b[0m\n\u001b[0m\u001b[1;32m    561\u001b[0m             \u001b[0;32mif\u001b[0m \u001b[0mself\u001b[0m\u001b[0;34m.\u001b[0m\u001b[0mpin_memory\u001b[0m\u001b[0;34m:\u001b[0m\u001b[0;34m\u001b[0m\u001b[0;34m\u001b[0m\u001b[0m\n\u001b[1;32m    562\u001b[0m                 \u001b[0mbatch\u001b[0m \u001b[0;34m=\u001b[0m \u001b[0m_utils\u001b[0m\u001b[0;34m.\u001b[0m\u001b[0mpin_memory\u001b[0m\u001b[0;34m.\u001b[0m\u001b[0mpin_memory_batch\u001b[0m\u001b[0;34m(\u001b[0m\u001b[0mbatch\u001b[0m\u001b[0;34m)\u001b[0m\u001b[0;34m\u001b[0m\u001b[0;34m\u001b[0m\u001b[0m\n",
            "\u001b[0;32m/usr/local/lib/python3.6/dist-packages/torchvision/datasets/cifar.py\u001b[0m in \u001b[0;36m__getitem__\u001b[0;34m(self, index)\u001b[0m\n\u001b[1;32m    118\u001b[0m             \u001b[0mtuple\u001b[0m\u001b[0;34m:\u001b[0m \u001b[0;34m(\u001b[0m\u001b[0mimage\u001b[0m\u001b[0;34m,\u001b[0m \u001b[0mtarget\u001b[0m\u001b[0;34m)\u001b[0m \u001b[0mwhere\u001b[0m \u001b[0mtarget\u001b[0m \u001b[0;32mis\u001b[0m \u001b[0mindex\u001b[0m \u001b[0mof\u001b[0m \u001b[0mthe\u001b[0m \u001b[0mtarget\u001b[0m \u001b[0;32mclass\u001b[0m\u001b[0;34m.\u001b[0m\u001b[0;34m\u001b[0m\u001b[0;34m\u001b[0m\u001b[0m\n\u001b[1;32m    119\u001b[0m         \"\"\"\n\u001b[0;32m--> 120\u001b[0;31m         \u001b[0mimg\u001b[0m\u001b[0;34m,\u001b[0m \u001b[0mtarget\u001b[0m \u001b[0;34m=\u001b[0m \u001b[0mself\u001b[0m\u001b[0;34m.\u001b[0m\u001b[0mdata\u001b[0m\u001b[0;34m[\u001b[0m\u001b[0mindex\u001b[0m\u001b[0;34m]\u001b[0m\u001b[0;34m,\u001b[0m \u001b[0mself\u001b[0m\u001b[0;34m.\u001b[0m\u001b[0mtargets\u001b[0m\u001b[0;34m[\u001b[0m\u001b[0mindex\u001b[0m\u001b[0;34m]\u001b[0m\u001b[0;34m\u001b[0m\u001b[0;34m\u001b[0m\u001b[0m\n\u001b[0m\u001b[1;32m    121\u001b[0m \u001b[0;34m\u001b[0m\u001b[0m\n\u001b[1;32m    122\u001b[0m         \u001b[0;31m# doing this so that it is consistent with all other datasets\u001b[0m\u001b[0;34m\u001b[0m\u001b[0;34m\u001b[0m\u001b[0;34m\u001b[0m\u001b[0m\n",
            "\u001b[0;31mKeyboardInterrupt\u001b[0m: "
          ]
        }
      ]
    }
  ]
}